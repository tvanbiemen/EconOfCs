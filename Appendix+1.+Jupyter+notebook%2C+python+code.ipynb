{
 "cells": [
  {
   "cell_type": "markdown",
   "metadata": {},
   "source": [
    "This is converted to PDF for sake of readability, the code itself can be found on the following github repository:\n",
    "https://github.com/tvanbiemen/EconOfCs"
   ]
  },
  {
   "cell_type": "code",
   "execution_count": 16,
   "metadata": {
    "collapsed": true,
    "deletable": true,
    "editable": true
   },
   "outputs": [],
   "source": [
    "#Basic packages\n",
    "import pandas as pd\n",
    "import numpy as np\n",
    "import matplotlib.pyplot as plt\n",
    "from scipy import stats\n",
    "from matplotlib_venn import venn3, venn3_circles"
   ]
  },
  {
   "cell_type": "code",
   "execution_count": 17,
   "metadata": {
    "collapsed": true,
    "deletable": true,
    "editable": true
   },
   "outputs": [],
   "source": [
    "#Extra packages\n",
    "import random\n",
    "import socket\n",
    "import struct"
   ]
  },
  {
   "cell_type": "code",
   "execution_count": 18,
   "metadata": {
    "collapsed": false,
    "deletable": true,
    "editable": true
   },
   "outputs": [
    {
     "data": {
      "text/html": [
       "<div>\n",
       "<style>\n",
       "    .dataframe thead tr:only-child th {\n",
       "        text-align: right;\n",
       "    }\n",
       "\n",
       "    .dataframe thead th {\n",
       "        text-align: left;\n",
       "    }\n",
       "\n",
       "    .dataframe tbody tr th {\n",
       "        vertical-align: top;\n",
       "    }\n",
       "</style>\n",
       "<table border=\"1\" class=\"dataframe\">\n",
       "  <thead>\n",
       "    <tr style=\"text-align: right;\">\n",
       "      <th></th>\n",
       "      <th>-::DATE</th>\n",
       "      <th>-::URL</th>\n",
       "      <th>-::IP</th>\n",
       "      <th>-::TYPE</th>\n",
       "      <th>Unnamed: 4</th>\n",
       "    </tr>\n",
       "  </thead>\n",
       "  <tbody>\n",
       "    <tr>\n",
       "      <th>0</th>\n",
       "      <td>08-11-2017</td>\n",
       "      <td>mfmqatar.com/deux/windsor/admin.php</td>\n",
       "      <td>198.38.82.246</td>\n",
       "      <td>Pony</td>\n",
       "      <td>NaN</td>\n",
       "    </tr>\n",
       "    <tr>\n",
       "      <th>1</th>\n",
       "      <td>08-11-2017</td>\n",
       "      <td>191.101.245.31/panel/</td>\n",
       "      <td>NaN</td>\n",
       "      <td>AZORult</td>\n",
       "      <td>NaN</td>\n",
       "    </tr>\n",
       "    <tr>\n",
       "      <th>2</th>\n",
       "      <td>08-11-2017</td>\n",
       "      <td>tapkinoski.gdn.cp-tr-1.webhostbox.net/index.php</td>\n",
       "      <td>5.100.156.10</td>\n",
       "      <td>TVRAT</td>\n",
       "      <td>NaN</td>\n",
       "    </tr>\n",
       "    <tr>\n",
       "      <th>3</th>\n",
       "      <td>08-11-2017</td>\n",
       "      <td>finexp.us/hk/hs/HSB/config.php?account=taliban</td>\n",
       "      <td>5.206.224.14</td>\n",
       "      <td>Formbook</td>\n",
       "      <td>NaN</td>\n",
       "    </tr>\n",
       "    <tr>\n",
       "      <th>4</th>\n",
       "      <td>08-11-2017</td>\n",
       "      <td>brainboom.000webhostapp.com/</td>\n",
       "      <td>145.14.145.219</td>\n",
       "      <td>Betabot</td>\n",
       "      <td>NaN</td>\n",
       "    </tr>\n",
       "  </tbody>\n",
       "</table>\n",
       "</div>"
      ],
      "text/plain": [
       "      -::DATE                                           -::URL  \\\n",
       "0  08-11-2017              mfmqatar.com/deux/windsor/admin.php   \n",
       "1  08-11-2017                            191.101.245.31/panel/   \n",
       "2  08-11-2017  tapkinoski.gdn.cp-tr-1.webhostbox.net/index.php   \n",
       "3  08-11-2017   finexp.us/hk/hs/HSB/config.php?account=taliban   \n",
       "4  08-11-2017                     brainboom.000webhostapp.com/   \n",
       "\n",
       "            -::IP   -::TYPE  Unnamed: 4  \n",
       "0   198.38.82.246      Pony         NaN  \n",
       "1             NaN   AZORult         NaN  \n",
       "2    5.100.156.10     TVRAT         NaN  \n",
       "3    5.206.224.14  Formbook         NaN  \n",
       "4  145.14.145.219   Betabot         NaN  "
      ]
     },
     "execution_count": 18,
     "metadata": {},
     "output_type": "execute_result"
    }
   ],
   "source": [
    "#Dataset 1, this takes some time to load\n",
    "#The website is sometimes down..... http://downforeveryoneorjustme.com/cybercrime-tracker.net\n",
    "cybercrime = pd.read_html('http://cybercrime-tracker.net/index.php?s=0&m=40000')\n",
    "cybercrime = cybercrime[0] #We want the first table that is found\n",
    "cybercrime.head()"
   ]
  },
  {
   "cell_type": "code",
   "execution_count": 19,
   "metadata": {
    "collapsed": false,
    "deletable": true,
    "editable": true
   },
   "outputs": [
    {
     "data": {
      "text/html": [
       "<div>\n",
       "<style>\n",
       "    .dataframe thead tr:only-child th {\n",
       "        text-align: right;\n",
       "    }\n",
       "\n",
       "    .dataframe thead th {\n",
       "        text-align: left;\n",
       "    }\n",
       "\n",
       "    .dataframe tbody tr th {\n",
       "        vertical-align: top;\n",
       "    }\n",
       "</style>\n",
       "<table border=\"1\" class=\"dataframe\">\n",
       "  <thead>\n",
       "    <tr style=\"text-align: right;\">\n",
       "      <th></th>\n",
       "      <th>Dateadded</th>\n",
       "      <th>Malware</th>\n",
       "      <th>Host</th>\n",
       "      <th>IP address</th>\n",
       "      <th>Level</th>\n",
       "      <th>Status</th>\n",
       "      <th>Files Online</th>\n",
       "      <th>SBL</th>\n",
       "      <th>Country</th>\n",
       "      <th>AS number</th>\n",
       "      <th>Uptime</th>\n",
       "    </tr>\n",
       "  </thead>\n",
       "  <tbody>\n",
       "    <tr>\n",
       "      <th>0</th>\n",
       "      <td>2017-11-07</td>\n",
       "      <td>Citadel</td>\n",
       "      <td>slap.alliancekl.com</td>\n",
       "      <td>NaN</td>\n",
       "      <td>4</td>\n",
       "      <td>offline</td>\n",
       "      <td>0</td>\n",
       "      <td>Not listed</td>\n",
       "      <td>-</td>\n",
       "      <td>NaN</td>\n",
       "      <td>50:10:43</td>\n",
       "    </tr>\n",
       "    <tr>\n",
       "      <th>1</th>\n",
       "      <td>2017-11-06</td>\n",
       "      <td>VMZeuS</td>\n",
       "      <td>bestframingnailerreview.com</td>\n",
       "      <td>104.243.42.202</td>\n",
       "      <td>2</td>\n",
       "      <td>online</td>\n",
       "      <td>0</td>\n",
       "      <td>Not listed</td>\n",
       "      <td>NaN</td>\n",
       "      <td>AS20473</td>\n",
       "      <td>74:01:57</td>\n",
       "    </tr>\n",
       "    <tr>\n",
       "      <th>2</th>\n",
       "      <td>2017-10-23</td>\n",
       "      <td>Citadel</td>\n",
       "      <td>flex.comonwealthplc.com</td>\n",
       "      <td>37.49.225.131</td>\n",
       "      <td>4</td>\n",
       "      <td>online</td>\n",
       "      <td>0</td>\n",
       "      <td>SBL374926</td>\n",
       "      <td>NaN</td>\n",
       "      <td>AS50673</td>\n",
       "      <td>408:04:02</td>\n",
       "    </tr>\n",
       "    <tr>\n",
       "      <th>3</th>\n",
       "      <td>2017-10-22</td>\n",
       "      <td>VMZeuS</td>\n",
       "      <td>kjkdndskjl.info</td>\n",
       "      <td>NaN</td>\n",
       "      <td>4</td>\n",
       "      <td>offline</td>\n",
       "      <td>0</td>\n",
       "      <td>Not listed</td>\n",
       "      <td>-</td>\n",
       "      <td>NaN</td>\n",
       "      <td>123:58:31</td>\n",
       "    </tr>\n",
       "    <tr>\n",
       "      <th>4</th>\n",
       "      <td>2017-10-21</td>\n",
       "      <td>Citadel</td>\n",
       "      <td>193.0.178.27</td>\n",
       "      <td>193.0.178.27</td>\n",
       "      <td>4</td>\n",
       "      <td>unknown</td>\n",
       "      <td>0</td>\n",
       "      <td>Not listed</td>\n",
       "      <td>NaN</td>\n",
       "      <td>AS57062</td>\n",
       "      <td>-</td>\n",
       "    </tr>\n",
       "  </tbody>\n",
       "</table>\n",
       "</div>"
      ],
      "text/plain": [
       "    Dateadded  Malware                         Host      IP address  Level  \\\n",
       "0  2017-11-07  Citadel          slap.alliancekl.com             NaN      4   \n",
       "1  2017-11-06   VMZeuS  bestframingnailerreview.com  104.243.42.202      2   \n",
       "2  2017-10-23  Citadel      flex.comonwealthplc.com   37.49.225.131      4   \n",
       "3  2017-10-22   VMZeuS              kjkdndskjl.info             NaN      4   \n",
       "4  2017-10-21  Citadel                 193.0.178.27    193.0.178.27      4   \n",
       "\n",
       "    Status Files Online         SBL Country AS number     Uptime  \n",
       "0  offline            0  Not listed       -       NaN   50:10:43  \n",
       "1   online            0  Not listed     NaN   AS20473   74:01:57  \n",
       "2   online            0   SBL374926     NaN   AS50673  408:04:02  \n",
       "3  offline            0  Not listed       -       NaN  123:58:31  \n",
       "4  unknown            0  Not listed     NaN   AS57062          -  "
      ]
     },
     "execution_count": 19,
     "metadata": {},
     "output_type": "execute_result"
    }
   ],
   "source": [
    "#Dataset 2\n",
    "Zeus = pd.read_html('https://zeustracker.abuse.ch/monitor.php?filter=all', header=0)\n",
    "Zeus = Zeus[1] # we need the second table that is found\n",
    "Zeus.head()"
   ]
  },
  {
   "cell_type": "code",
   "execution_count": 20,
   "metadata": {
    "collapsed": false,
    "deletable": true,
    "editable": true
   },
   "outputs": [
    {
     "data": {
      "text/html": [
       "<div>\n",
       "<style>\n",
       "    .dataframe thead tr:only-child th {\n",
       "        text-align: right;\n",
       "    }\n",
       "\n",
       "    .dataframe thead th {\n",
       "        text-align: left;\n",
       "    }\n",
       "\n",
       "    .dataframe tbody tr th {\n",
       "        vertical-align: top;\n",
       "    }\n",
       "</style>\n",
       "<table border=\"1\" class=\"dataframe\">\n",
       "  <thead>\n",
       "    <tr style=\"text-align: right;\">\n",
       "      <th></th>\n",
       "      <th># Firstseen (UTC)</th>\n",
       "      <th>Threat</th>\n",
       "      <th>Malware</th>\n",
       "      <th>Host</th>\n",
       "      <th>URL</th>\n",
       "      <th>Status</th>\n",
       "      <th>Registrar</th>\n",
       "      <th>IP address(es)</th>\n",
       "      <th>ASN(s)</th>\n",
       "      <th>Country</th>\n",
       "    </tr>\n",
       "  </thead>\n",
       "  <tbody>\n",
       "    <tr>\n",
       "      <th>13717</th>\n",
       "      <td>2015-04-15 14:00:53</td>\n",
       "      <td>C2</td>\n",
       "      <td>CryptoWall</td>\n",
       "      <td>marcortes.com</td>\n",
       "      <td>http://marcortes.com/img5.php</td>\n",
       "      <td>offline</td>\n",
       "      <td>OVH</td>\n",
       "      <td>91.134.158.216</td>\n",
       "      <td>16276</td>\n",
       "      <td>FR</td>\n",
       "    </tr>\n",
       "    <tr>\n",
       "      <th>13718</th>\n",
       "      <td>2015-03-07 13:46:58</td>\n",
       "      <td>C2</td>\n",
       "      <td>CryptoWall</td>\n",
       "      <td>drdigitalmd.com</td>\n",
       "      <td>http://drdigitalmd.com/img1.php</td>\n",
       "      <td>offline</td>\n",
       "      <td>PDR LTD. D/B/A PUBLICDOMAINREGISTRY.COM</td>\n",
       "      <td>192.210.234.140</td>\n",
       "      <td>36352</td>\n",
       "      <td>US</td>\n",
       "    </tr>\n",
       "    <tr>\n",
       "      <th>13719</th>\n",
       "      <td>2015-03-04 12:10:59</td>\n",
       "      <td>C2</td>\n",
       "      <td>CryptoWall</td>\n",
       "      <td>rajsima87.com</td>\n",
       "      <td>http://rajsima87.com/img2.php</td>\n",
       "      <td>offline</td>\n",
       "      <td>eNom, Inc.</td>\n",
       "      <td>nan</td>\n",
       "      <td>NaN</td>\n",
       "      <td>nan</td>\n",
       "    </tr>\n",
       "    <tr>\n",
       "      <th>13720</th>\n",
       "      <td>2015-03-02 04:14:59</td>\n",
       "      <td>C2</td>\n",
       "      <td>CryptoWall</td>\n",
       "      <td>jauregia.net</td>\n",
       "      <td>http://jauregia.net/img5.php</td>\n",
       "      <td>offline</td>\n",
       "      <td>TECNOCRATICA CENTRO DE DATOS, S.L.</td>\n",
       "      <td>185.92.246.115</td>\n",
       "      <td>201446</td>\n",
       "      <td>ES</td>\n",
       "    </tr>\n",
       "    <tr>\n",
       "      <th>13721</th>\n",
       "      <td>2015-03-02 01:18:48</td>\n",
       "      <td>C2</td>\n",
       "      <td>CryptoWall</td>\n",
       "      <td>lzclient.com</td>\n",
       "      <td>http://lzclient.com/img4.php</td>\n",
       "      <td>offline</td>\n",
       "      <td>eNom, Inc.</td>\n",
       "      <td>nan</td>\n",
       "      <td>NaN</td>\n",
       "      <td>nan</td>\n",
       "    </tr>\n",
       "  </tbody>\n",
       "</table>\n",
       "</div>"
      ],
      "text/plain": [
       "         # Firstseen (UTC) Threat     Malware             Host  \\\n",
       "13717  2015-04-15 14:00:53     C2  CryptoWall    marcortes.com   \n",
       "13718  2015-03-07 13:46:58     C2  CryptoWall  drdigitalmd.com   \n",
       "13719  2015-03-04 12:10:59     C2  CryptoWall    rajsima87.com   \n",
       "13720  2015-03-02 04:14:59     C2  CryptoWall     jauregia.net   \n",
       "13721  2015-03-02 01:18:48     C2  CryptoWall     lzclient.com   \n",
       "\n",
       "                                   URL   Status  \\\n",
       "13717    http://marcortes.com/img5.php  offline   \n",
       "13718  http://drdigitalmd.com/img1.php  offline   \n",
       "13719    http://rajsima87.com/img2.php  offline   \n",
       "13720     http://jauregia.net/img5.php  offline   \n",
       "13721     http://lzclient.com/img4.php  offline   \n",
       "\n",
       "                                     Registrar   IP address(es)  ASN(s)  \\\n",
       "13717                                      OVH   91.134.158.216   16276   \n",
       "13718  PDR LTD. D/B/A PUBLICDOMAINREGISTRY.COM  192.210.234.140   36352   \n",
       "13719                               eNom, Inc.              nan     NaN   \n",
       "13720       TECNOCRATICA CENTRO DE DATOS, S.L.   185.92.246.115  201446   \n",
       "13721                               eNom, Inc.              nan     NaN   \n",
       "\n",
       "      Country  \n",
       "13717      FR  \n",
       "13718      US  \n",
       "13719     nan  \n",
       "13720      ES  \n",
       "13721     nan  "
      ]
     },
     "execution_count": 20,
     "metadata": {},
     "output_type": "execute_result"
    }
   ],
   "source": [
    "#Dataset 3, requires a bit more cleaning\n",
    "Ransomware = pd.read_csv('https://ransomwaretracker.abuse.ch/feeds/csv/', skiprows=8, encoding = \"ISO-8859-1\", parse_dates=True)\n",
    "iplistsplt =  Ransomware['IP address(es)'].astype(str).str.split('|')\n",
    "Ransomware['IP address(es)'] = [item[0] for item in iplistsplt]\n",
    "countrytsplt =  Ransomware['Country'].astype(str).str.split('|')\n",
    "Ransomware['Country'] = [item[0] for item in countrytsplt]\n",
    "Ransomware = Ransomware.iloc[:-1,:]\n",
    "Ransomware.tail()"
   ]
  },
  {
   "cell_type": "code",
   "execution_count": 21,
   "metadata": {
    "collapsed": false,
    "deletable": true,
    "editable": true
   },
   "outputs": [
    {
     "name": "stdout",
     "output_type": "stream",
     "text": [
      "Drew 15000 random IP adresses\n"
     ]
    }
   ],
   "source": [
    "#Create a list of random IP adresses for comparison\n",
    "Random_Ips = []\n",
    "n = 15000\n",
    "for i in range (0,n):\n",
    "    Random_Ips.append(socket.inet_ntoa(struct.pack('>I', random.randint(1, 0xffffffff))))\n",
    "    print(' Drawing IP no:' + str(i), end='\\r')\n",
    "print(\"Drew \" +str(n)+ \" random IP adresses\") \n",
    "Random_Ips = pd.DataFrame({'ip':Random_Ips})\n"
   ]
  },
  {
   "cell_type": "code",
   "execution_count": 22,
   "metadata": {
    "collapsed": false,
    "deletable": true,
    "editable": true
   },
   "outputs": [
    {
     "data": {
      "text/plain": [
       "(62.109.9.188       83\n",
       " 198.105.221.5      71\n",
       " 174.127.78.72      66\n",
       " 108.162.199.107    58\n",
       " 198.176.28.49      45\n",
       " 66.45.253.74       33\n",
       " 172.93.106.18      33\n",
       " 108.170.51.58      31\n",
       " 108.61.47.186      31\n",
       " 198.1.80.203       31\n",
       " Name: -::IP, dtype: int64, 104.238.158.106    17\n",
       " FastFlux Botnet    14\n",
       " 141.8.226.58        9\n",
       " 198.54.117.212      3\n",
       " 5.9.107.19          3\n",
       " 144.76.115.36       3\n",
       " 66.45.245.150       2\n",
       " 80.78.250.26        2\n",
       " 186.250.244.100     2\n",
       " 195.20.44.100       1\n",
       " Name: IP address, dtype: int64, 184.105.192.2     242\n",
       " 127.0.0.1         239\n",
       " 213.205.40.169    170\n",
       " 195.157.15.100     84\n",
       " 204.11.56.48       71\n",
       " 80.150.6.138       65\n",
       " 95.211.144.65      47\n",
       " 112.140.42.29      47\n",
       " 52.71.185.125      46\n",
       " 208.100.26.234     38\n",
       " Name: IP address(es), dtype: int64)"
      ]
     },
     "execution_count": 22,
     "metadata": {},
     "output_type": "execute_result"
    }
   ],
   "source": [
    "#Print out the ten most commons IP adresses in the datasets\n",
    "cybercrime['-::IP'].value_counts()[0:10], Zeus['IP address'].value_counts()[0:10],Ransomware['IP address(es)'].value_counts()[1:11]"
   ]
  },
  {
   "cell_type": "code",
   "execution_count": 23,
   "metadata": {
    "collapsed": false,
    "deletable": true,
    "editable": true
   },
   "outputs": [
    {
     "data": {
      "text/plain": [
       "(lisovfoxcom.418.com1.ru    1\n",
       " prtscrinsertcn.net         1\n",
       " 120.63.157.195             1\n",
       " atmape.ru                  1\n",
       " gyodundena.hotmail.ru      1\n",
       " trust-s-b.com              1\n",
       " dl.dropbox.com             1\n",
       " nicktung.com               1\n",
       " noonepa.tk                 1\n",
       " Name: Host, dtype: int64, bolizarsospos.com          84\n",
       " mafianeedsyouqq.com        22\n",
       " gutentagmeinliebeqq.com    21\n",
       " itsyourtimeqq.su           21\n",
       " goonwithmazerqq.com        19\n",
       " helloyoungmanqq.com        18\n",
       " facerecognition.com.ba     13\n",
       " lenovowantsyouqq.com       12\n",
       " invoiceholderqq.com        11\n",
       " thisisyourchangeqq.com     11\n",
       " Name: Host, dtype: int64)"
      ]
     },
     "execution_count": 23,
     "metadata": {},
     "output_type": "execute_result"
    }
   ],
   "source": [
    "#Print out the ten most commons hosts in the datasets\n",
    "Zeus['Host'].value_counts()[1:10],Ransomware['Host'].value_counts()[0:10]"
   ]
  },
  {
   "cell_type": "code",
   "execution_count": 24,
   "metadata": {
    "collapsed": false,
    "deletable": true,
    "editable": true
   },
   "outputs": [
    {
     "data": {
      "text/plain": [
       "(-    284\n",
       " Name: Country, dtype: int64, nan    4462\n",
       " US     3253\n",
       " DE      634\n",
       " RU      547\n",
       " NL      412\n",
       " IT      404\n",
       " GB      353\n",
       " FR      273\n",
       " CN      225\n",
       " PL      225\n",
       " Name: Country, dtype: int64)"
      ]
     },
     "execution_count": 24,
     "metadata": {},
     "output_type": "execute_result"
    }
   ],
   "source": [
    "#Print out the ten most commons hosts in the datasets\n",
    "Zeus['Country'].value_counts()[0:10],Ransomware['Country'].value_counts()[0:10] #Zeus html version does not give us country names, need to get it from statistics table"
   ]
  },
  {
   "cell_type": "code",
   "execution_count": 25,
   "metadata": {
    "collapsed": false,
    "deletable": true,
    "editable": true
   },
   "outputs": [
    {
     "data": {
      "text/plain": [
       "(Pony         2698\n",
       " ZeuS         2325\n",
       " Citadel      1175\n",
       " Blackhole     850\n",
       " WSO           400\n",
       " IceIX         299\n",
       " Stealer       255\n",
       " Mailer        193\n",
       " Betabot       182\n",
       " Solar         178\n",
       " Name: -::TYPE, dtype: int64, ZeuS       192\n",
       " Citadel    163\n",
       " VMZeuS      69\n",
       " KINS        46\n",
       " Ice IX      10\n",
       " Name: Malware, dtype: int64, Locky            11303\n",
       " Cerber            1573\n",
       " TeslaCrypt         477\n",
       " CryptoWall         203\n",
       " TorrentLocker      120\n",
       " PayCrypt            21\n",
       " Sage                 9\n",
       " CTB-Locker           6\n",
       " PadCrypt             4\n",
       " FAKBEN               3\n",
       " Name: Malware, dtype: int64)"
      ]
     },
     "execution_count": 25,
     "metadata": {},
     "output_type": "execute_result"
    }
   ],
   "source": [
    "#Print out the ten most common malware types in each dataset\n",
    "cybercrime['-::TYPE'].value_counts()[0:10], Zeus['Malware'].value_counts()[0:10],Ransomware['Malware'].value_counts()[0:10]"
   ]
  },
  {
   "cell_type": "code",
   "execution_count": 37,
   "metadata": {
    "collapsed": false,
    "deletable": true,
    "editable": true
   },
   "outputs": [
    {
     "data": {
      "image/png": "[encoded data removed]",
      "text/plain": [
       "<matplotlib.figure.Figure at 0xec41a50>"
      ]
     },
     "metadata": {},
     "output_type": "display_data"
    },
    {
     "data": {
      "text/plain": [
       "<matplotlib.figure.Figure at 0xec88290>"
      ]
     },
     "metadata": {},
     "output_type": "display_data"
    }
   ],
   "source": [
    "#Venn plot\n",
    "\n",
    "a = Zeus['IP address']\n",
    "b = Ransomware['IP address(es)']\n",
    "c = cybercrime['-::IP']\n",
    "\n",
    "s = (\n",
    "    len(a),    # Abc\n",
    "    len(b),    # aBc\n",
    "    len(set.intersection(set(a), set(b))),    # ABc\n",
    "    len(c),    # abC\n",
    "    len(set.intersection(set(a), set(c))),    # AbC\n",
    "    len(set.intersection(set(b), set(c))),  # aBC\n",
    "    len(set.intersection(set(a), set(b), set(c))),   # ABC\n",
    ")\n",
    "v = venn3(subsets=s, set_labels=('Zeus', 'Ransomware', 'Cybercrime'))\n",
    "\n",
    "# Subset labels\n",
    "v.get_label_by_id('100').set_text(str(len(a)))\n",
    "v.get_label_by_id('010').set_text(str(len(b)))\n",
    "v.get_label_by_id('110').set_text(str(len(set.intersection(set(a), set(b)))))\n",
    "v.get_label_by_id('001').set_text(str(len(c)))\n",
    "v.get_label_by_id('101').set_text(str(len(set.intersection(set(a), set(c)))))\n",
    "v.get_label_by_id('011').set_text(str(len(set.intersection(set(b), set(c)))))\n",
    "#v.get_label_by_id('111').set_text(str(len(set.intersection(set(a), set(b), set(c)))))\n",
    "\n",
    "# Subset colors\n",
    "v.get_patch_by_id('100').set_color('c')\n",
    "v.get_patch_by_id('010').set_color('#993333')\n",
    "v.get_patch_by_id('110').set_color('blue')\n",
    "\n",
    "# Subset alphas\n",
    "v.get_patch_by_id('101').set_alpha(0.4)\n",
    "v.get_patch_by_id('011').set_alpha(1.0)\n",
    "#v.get_patch_by_id('111').set_alpha(0.7)\n",
    "\n",
    "# Border styles\n",
    "c = venn3_circles(subsets=s, linestyle='solid')\n",
    "c[0].set_ls('dotted')  # Line style\n",
    "c[1].set_ls('dashed')\n",
    "c[2].set_lw(1.0)       # Line width\n",
    "plt.figure(figsize=(15,15))\n",
    "plt.show()\n"
   ]
  },
  {
   "cell_type": "code",
   "execution_count": 38,
   "metadata": {
    "collapsed": true,
    "deletable": true,
    "editable": true
   },
   "outputs": [],
   "source": [
    "def fracx(a):\n",
    "    #Creates x values for plotting cumulative fractions\n",
    "    a = np.array(list(range(0,len(a))))/len(a)\n",
    "    return a"
   ]
  },
  {
   "cell_type": "code",
   "execution_count": 39,
   "metadata": {
    "collapsed": false,
    "deletable": true,
    "editable": true
   },
   "outputs": [
    {
     "data": {
      "image/png": "[encoded data removed]",
      "text/plain": [
       "<matplotlib.figure.Figure at 0xec55790>"
      ]
     },
     "metadata": {},
     "output_type": "display_data"
    }
   ],
   "source": [
    "a = Zeus['IP address'].value_counts(normalize=True)\n",
    "b = Ransomware['IP address(es)'].value_counts(normalize=True)\n",
    "c = cybercrime['-::IP'].value_counts(normalize=True)\n",
    "d = Random_Ips['ip'].value_counts(normalize=True)\n",
    "\n",
    "ax = plt.subplot()\n",
    "\n",
    "plt.plot(fracx(a),a, label=\"ip's Zeustracker\")\n",
    "plt.plot(fracx(b),b, label=\"ip's Ransomwaretracker\")\n",
    "plt.plot(fracx(c),c, label=\"ip's Mwaredomainlist\")\n",
    "plt.plot(fracx(d),d, label=\"ip's Random sample\")\n",
    "\n",
    "ax.set_xlim(0,0.06)\n",
    "ax.set_ylim(0,0.1)\n",
    "plt.title('Dstribution of IP adresses per dataset')\n",
    "\n",
    "plt.legend()\n",
    "plt.show()"
   ]
  },
  {
   "cell_type": "code",
   "execution_count": 40,
   "metadata": {
    "collapsed": false,
    "deletable": true,
    "editable": true
   },
   "outputs": [
    {
     "data": {
      "image/png": "[encoded data removed]",
      "text/plain": [
       "<matplotlib.figure.Figure at 0xec55570>"
      ]
     },
     "metadata": {},
     "output_type": "display_data"
    }
   ],
   "source": [
    "a = Zeus['IP address'].value_counts(normalize=True).cumsum()\n",
    "b = Ransomware['IP address(es)'].value_counts(normalize=True).cumsum()\n",
    "c = cybercrime['-::IP'].value_counts(normalize=True).cumsum()\n",
    "d = Random_Ips['ip'].value_counts(normalize=True).cumsum()\n",
    "\n",
    "ax = plt.subplot()\n",
    "\n",
    "plt.plot(fracx(a),a, label=\"ip's Zeustracker\")\n",
    "plt.plot(fracx(b),b, label=\"ip's Ransomwaretracker\")\n",
    "plt.plot(fracx(c),c, label=\"ip's Mwaredomainlist\")\n",
    "plt.plot(fracx(d),d, label=\"ip's Random sample\")\n",
    "\n",
    "ax.set_xlim(0,1)\n",
    "ax.set_ylim(0,1)\n",
    "plt.title('Cummulative distribution of IP adresses per dataset')\n",
    "\n",
    "plt.legend()\n",
    "plt.show()"
   ]
  },
  {
   "cell_type": "code",
   "execution_count": 41,
   "metadata": {
    "collapsed": false,
    "deletable": true,
    "editable": true
   },
   "outputs": [
    {
     "data": {
      "image/png": "[encoded data removed]",
      "text/plain": [
       "<matplotlib.figure.Figure at 0x18f727d0>"
      ]
     },
     "metadata": {},
     "output_type": "display_data"
    }
   ],
   "source": [
    "# Plot the cumulative distribution of countries\n",
    "b = Ransomware['Country'].value_counts(normalize=True)\n",
    "ax = plt.subplot()\n",
    "\n",
    "\n",
    "plt.plot(fracx(b),b.cumsum(), label=\"Countries Ransomwaretracker\")\n",
    "plt.title('Cummulative distribution of countries per dataset')\n",
    "\n",
    "ax.set_xlim(0,1)\n",
    "ax.set_ylim(0,1)\n",
    "\n",
    "plt.legend()\n",
    "plt.show()"
   ]
  },
  {
   "cell_type": "code",
   "execution_count": 42,
   "metadata": {
    "collapsed": false,
    "deletable": true,
    "editable": true
   },
   "outputs": [
    {
     "data": {
      "image/png": "[encoded data removed]",
      "text/plain": [
       "<matplotlib.figure.Figure at 0x18f778d0>"
      ]
     },
     "metadata": {},
     "output_type": "display_data"
    }
   ],
   "source": [
    "a = Zeus['Host'].value_counts(normalize=True).cumsum()\n",
    "b = Ransomware['Host'].value_counts(normalize=True, dropna=False).cumsum()\n",
    "\n",
    "\n",
    "ax = plt.subplot()\n",
    "\n",
    "plt.plot(fracx(a),a, label=\"ip's Zeustracker\")\n",
    "plt.plot(fracx(b),b, label=\"ip's Ransomwaretracker\")\n",
    "\n",
    "\n",
    "ax.set_xlim(0,1)\n",
    "ax.set_ylim(0,1)\n",
    "plt.title('Cummulative distribution of hosts per dataset')\n",
    "\n",
    "plt.legend()\n",
    "plt.show()"
   ]
  },
  {
   "cell_type": "code",
   "execution_count": 43,
   "metadata": {
    "collapsed": true,
    "deletable": true,
    "editable": true
   },
   "outputs": [],
   "source": [
    "# This function prints out the outcomes of our statistics test\n",
    "def ks_samp(a,b):\n",
    "    print(stats.ks_2samp(a,b))"
   ]
  },
  {
   "cell_type": "code",
   "execution_count": 44,
   "metadata": {
    "collapsed": true,
    "deletable": true,
    "editable": true
   },
   "outputs": [],
   "source": [
    "a = Zeus['IP address'].value_counts(normalize=True).cumsum()\n",
    "b = Ransomware['IP address(es)'].value_counts(normalize=True).cumsum()\n",
    "c = cybercrime['-::IP'].value_counts(normalize=True).cumsum()\n",
    "d = Random_Ips['ip'].value_counts(normalize=True).cumsum()"
   ]
  },
  {
   "cell_type": "code",
   "execution_count": 45,
   "metadata": {
    "collapsed": false,
    "deletable": true,
    "editable": true
   },
   "outputs": [
    {
     "name": "stdout",
     "output_type": "stream",
     "text": [
      "Ks_2sampResult(statistic=0.36752090639330998, pvalue=1.4830729305974341e-19)\n",
      "Ks_2sampResult(statistic=0.22438511318167625, pvalue=1.4387054376873975e-110)\n",
      "Ks_2sampResult(statistic=0.22104204385435527, pvalue=2.4255996810306513e-07)\n",
      "Ks_2sampResult(statistic=0.21211515151515151, pvalue=6.221236023578169e-07)\n",
      "Ks_2sampResult(statistic=0.47685143422354104, pvalue=0.0)\n",
      "Ks_2sampResult(statistic=0.33757304365318852, pvalue=0.0)\n"
     ]
    }
   ],
   "source": [
    "# Perform the statistical tests\n",
    "ks_samp(a,b) #Accept 0 hyp (from same dist.) if p>0.05\n",
    "ks_samp(b,c) #Accept 0 hyp (from same dist.) if p>0.05\n",
    "ks_samp(a,c) #Accept 0 hyp (from same dist.) if p>0.05\n",
    "ks_samp(a,d) #Accept 0 hyp (from same dist.) if p>0.05\n",
    "ks_samp(b,d) #Accept 0 hyp (from same dist.) if p>0.05\n",
    "ks_samp(c,d) #Accept 0 hyp (from same dist.) if p>0.05"
   ]
  },
  {
   "cell_type": "code",
   "execution_count": 46,
   "metadata": {
    "collapsed": false,
    "deletable": true,
    "editable": true,
    "scrolled": true
   },
   "outputs": [
    {
     "data": {
      "text/plain": [
       "BE    0.285714\n",
       "FI    0.250000\n",
       "GB    0.246459\n",
       "IL    0.166667\n",
       "IR    0.105263\n",
       "SK    0.090909\n",
       "AR    0.086957\n",
       "KR    0.083333\n",
       "TH    0.080882\n",
       "ID    0.072917\n",
       "Name: Country, dtype: float64"
      ]
     },
     "execution_count": 46,
     "metadata": {},
     "output_type": "execute_result"
    }
   ],
   "source": [
    "#Calcuate the % up per country metric\n",
    "a = Ransomware[Ransomware['Status'] == 'offline'].Country.value_counts()\n",
    "b = Ransomware[Ransomware['Status'] == 'online'].Country.value_counts()\n",
    "(b/(a+b)).dropna().sort_values(ascending=False)[0:10]"
   ]
  },
  {
   "cell_type": "code",
   "execution_count": 47,
   "metadata": {
    "collapsed": false,
    "deletable": true,
    "editable": true
   },
   "outputs": [
    {
     "data": {
      "text/plain": [
       "bolizarsospos.com                 0.964286\n",
       "wt7dzbn78.homepage.t-online.de    0.666667\n",
       "galeona.com                       0.666667\n",
       "greatgoods2.bravepages.com        0.666667\n",
       "www.resumebuddy.net               0.500000\n",
       "3e.com.pt                         0.500000\n",
       "bptpm.sragenkab.go.id             0.500000\n",
       "demo.evgesha.ru                   0.500000\n",
       "flax-fiber.com                    0.500000\n",
       "hjhqmbxyinislkkt.15u3kg.top       0.500000\n",
       "Name: Host, dtype: float64"
      ]
     },
     "execution_count": 47,
     "metadata": {},
     "output_type": "execute_result"
    }
   ],
   "source": [
    "#Calculate the % up per host metric\n",
    "a = Ransomware[Ransomware['Status'] == 'offline'].Host.value_counts()\n",
    "b = Ransomware[Ransomware['Status'] == 'online'].Host.value_counts()\n",
    "#c = a + b\n",
    "(b/(a+b)).dropna().sort_values(ascending=False)[0:10]"
   ]
  },
  {
   "cell_type": "code",
   "execution_count": 48,
   "metadata": {
    "collapsed": false,
    "deletable": true,
    "editable": true
   },
   "outputs": [
    {
     "data": {
      "text/plain": [
       "KruskalResult(statistic=14.393939393939387, pvalue=0.00014827877260963348)"
      ]
     },
     "execution_count": 48,
     "metadata": {},
     "output_type": "execute_result"
    }
   ],
   "source": [
    "# Prepare the kruskal test to see if number of ransomware per country is distributed similarly between datasets\n",
    "b = pd.DataFrame(Ransomware['Country'].value_counts())\n",
    "needed = ['US','DE','RU','NL','CH','CN','CA','IN','BR','TH']\n",
    "lista = b[b.index.isin(needed)].Country\n",
    "listb = [36,27,17,15,10,6,5,5,5,5]\n",
    "stats.kruskal(lista,listb) # p<0.5, so not simmilar\n"
   ]
  },
  {
   "cell_type": "code",
   "execution_count": 49,
   "metadata": {
    "collapsed": true,
    "deletable": true,
    "editable": true
   },
   "outputs": [],
   "source": [
    "#Make dates plotable\n",
    "cybercrime['-::DATE'] = pd.to_datetime(cybercrime['-::DATE'])\n",
    "Zeus['Dateadded'] = pd.to_datetime(Zeus['Dateadded'])\n",
    "Ransomware[\"# Firstseen (UTC)\"] = pd.to_datetime(Ransomware[\"# Firstseen (UTC)\"])\n"
   ]
  },
  {
   "cell_type": "code",
   "execution_count": 50,
   "metadata": {
    "collapsed": false,
    "deletable": true,
    "editable": true
   },
   "outputs": [
    {
     "data": {
      "image/png": "[encoded data removed]",
      "text/plain": [
       "<matplotlib.figure.Figure at 0x18f98770>"
      ]
     },
     "metadata": {},
     "output_type": "display_data"
    }
   ],
   "source": [
    "#Plot entries per date for Cybercrime\n",
    "cybercrime.groupby('-::DATE').count().iloc[1:,1].plot(label='Cybercrime', title='Cybercrime database Dates')\n",
    "plt.legend()\n",
    "plt.show()"
   ]
  },
  {
   "cell_type": "code",
   "execution_count": 51,
   "metadata": {
    "collapsed": false,
    "deletable": true,
    "editable": true
   },
   "outputs": [
    {
     "data": {
      "image/png": "[encoded data removed]",
      "text/plain": [
       "<matplotlib.figure.Figure at 0x18f608f0>"
      ]
     },
     "metadata": {},
     "output_type": "display_data"
    }
   ],
   "source": [
    "#Plot entries per date for Zeus\n",
    "Zeus.groupby('Dateadded').count()['Status'].plot(label='Cybercrime', title='Cybercrime database Dates')\n",
    "plt.legend()\n",
    "plt.show()"
   ]
  },
  {
   "cell_type": "code",
   "execution_count": 52,
   "metadata": {
    "collapsed": false,
    "deletable": true,
    "editable": true
   },
   "outputs": [
    {
     "data": {
      "image/png": "[encoded data removed]",
      "text/plain": [
       "<matplotlib.figure.Figure at 0x18ef5030>"
      ]
     },
     "metadata": {},
     "output_type": "display_data"
    }
   ],
   "source": [
    "#Plot entries per date for Ransomware\n",
    "Ransomware.groupby(\"# Firstseen (UTC)\").count().Status.plot(label='Cybercrime', title='Cybercrime database Dates')\n",
    "plt.show()"
   ]
  },
  {
   "cell_type": "code",
   "execution_count": 53,
   "metadata": {
    "collapsed": false,
    "deletable": true,
    "editable": true
   },
   "outputs": [
    {
     "data": {
      "image/png": "[encoded data removed]",
      "text/plain": [
       "<matplotlib.figure.Figure at 0x18f556d0>"
      ]
     },
     "metadata": {},
     "output_type": "display_data"
    }
   ],
   "source": [
    "#Plot for all\n",
    "cybercrime.groupby('-::DATE').count().iloc[1:,1].plot(label='Cybercrime')\n",
    "Ransomware.groupby(\"# Firstseen (UTC)\").count().Status.plot(label='Ransomware')\n",
    "Zeus.groupby('Dateadded').count()['Status'].plot(label='Zeus', title='Datasets, entry by date')\n",
    "\n",
    "plt.legend()\n",
    "plt.show()"
   ]
  },
  {
   "cell_type": "code",
   "execution_count": null,
   "metadata": {
    "collapsed": true
   },
   "outputs": [],
   "source": []
  }
 ],
 "metadata": {
  "kernelspec": {
   "display_name": "Python 3",
   "language": "python",
   "name": "python3"
  },
  "language_info": {
   "codemirror_mode": {
    "name": "ipython",
    "version": 3
   },
   "file_extension": ".py",
   "mimetype": "text/x-python",
   "name": "python",
   "nbconvert_exporter": "python",
   "pygments_lexer": "ipython3",
   "version": "3.6.0"
  }
 },
 "nbformat": 4,
 "nbformat_minor": 2
}
